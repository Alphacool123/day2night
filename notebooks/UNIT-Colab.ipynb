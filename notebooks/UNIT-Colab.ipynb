{
 "cells": [
  {
   "cell_type": "markdown",
   "metadata": {
    "colab_type": "text",
    "id": "XTxTQUGksnpD"
   },
   "source": [
    "# UNIT Project at Colab\n",
    "[on GitHub](https://github.com/mingyuliutw/UNIT)\n"
   ]
  },
  {
   "cell_type": "markdown",
   "metadata": {
    "colab_type": "text",
    "id": "_iC6SuvEjS6w"
   },
   "source": [
    "## Workspace Setup\n",
    "Bash commands setting up the current session for Juputer Notebook"
   ]
  },
  {
   "cell_type": "markdown",
   "metadata": {
    "colab_type": "text",
    "id": "3D9e9leUq0Di"
   },
   "source": [
    "### Google Drive Folder Mounting\n",
    "Following code mounts your google.drive to container. Choose **one** of next **two** methods."
   ]
  },
  {
   "cell_type": "code",
   "execution_count": null,
   "metadata": {
    "cellView": "form",
    "colab": {
     "base_uri": "https://localhost:8080/",
     "height": 213
    },
    "colab_type": "code",
    "executionInfo": {
     "elapsed": 29445,
     "status": "ok",
     "timestamp": 1551255739733,
     "user": {
      "displayName": "Sole Sensei",
      "photoUrl": "https://lh5.googleusercontent.com/-SAcEN6PvRD4/AAAAAAAAAAI/AAAAAAAAAAk/c8RrHz6xuK4/s64/photo.jpg",
      "userId": "06217556349050602720"
     },
     "user_tz": -180
    },
    "id": "dSt2hldQOpnH",
    "outputId": "8e9430bb-a162-4445-9443-bf11f85bac21"
   },
   "outputs": [],
   "source": [
    "#@markdown #### Mounting (built-in)\n",
    "print('Mounting...')\n",
    "import os\n",
    "from google.colab import drive\n",
    "os.chdir('/content/')\n",
    "drive.mount('/drive/', force_remount=True)\n",
    "if os.path.exists('/content/drive'):\n",
    "    os.unlink('/content/drive')\n",
    "os.symlink('/drive/My Drive', '/content/drive')\n",
    "!ls '/content/drive/'\n",
    "print('Mounted!')"
   ]
  },
  {
   "cell_type": "code",
   "execution_count": null,
   "metadata": {
    "colab": {
     "base_uri": "https://localhost:8080/",
     "height": 52
    },
    "colab_type": "code",
    "id": "EB8Uw79G564n",
    "outputId": "a24b0918-3457-478b-b41d-67f800fd299c"
   },
   "outputs": [],
   "source": [
    "from shutil import copy, move\n",
    "import zipfile\n",
    "import os\n",
    "root = \"/content/drive/datasets/bdd100k\"\n",
    "!ls /content/drive/datasets\n",
    "rdst = root + \"_copy\"\n",
    "zipath = \"/content/drive/datasets/bdd100k_images.zip\"\n",
    "zip_ref = zipfile.ZipFile(zipath, 'r')\n",
    "zip_ref.extractall(rdst)\n",
    "zip_ref.close()\n",
    "\n",
    "if not os.path.exists(rdst):\n",
    "    os.mkdir(rdst)\n",
    "    \n",
    "for r,dirs,files in os.walk(root):\n",
    "    dst = rdst + r[len(root):]\n",
    "    print(f'{r} -> {dst}')\n",
    "    if not os.path.exists(dst):\n",
    "        os.mkdir(dst)\n",
    "    for i, f in enumerate(files):\n",
    "        if i % 1000 == 0:\n",
    "            print(f'{i * 100 // len(files)}% copied')\n",
    "        src = r + \"/\" + f\n",
    "        if not os.path.exists(dst + \"/\" + f):\n",
    "            move(src,dst)\n",
    "    print('100% copied')\n",
    "\n",
    "        "
   ]
  },
  {
   "cell_type": "code",
   "execution_count": null,
   "metadata": {
    "cellView": "form",
    "colab": {},
    "colab_type": "code",
    "id": "7_sisOPec8JQ"
   },
   "outputs": [],
   "source": [
    "#@markdown #### Mounting With Fuse Driver (google-drive-ocamlfuse)\n",
    "print('Mounting Google.Drive with google-drive-ocamlfuse...')\n",
    "% cd /content/\n",
    "print('Installing required software')\n",
    "! apt-get install -y -qq software-properties-common module-init-tools 2>&1 > /dev/null\n",
    "print('Add apt-repository with Google.Drive Fuse')\n",
    "! add-apt-repository -y ppa:alessandro-strada/ppa 2>&1 > /dev/null\n",
    "print('Updating packages...')\n",
    "! apt-get update -y -qq\n",
    "print('Installing google-drive-ocamlfuse fuse...')\n",
    "! apt-get install -y -qq google-drive-ocamlfuse fuse\n",
    "print('Authenticate Fuse in Google.Drive...')\n",
    "from google.colab import auth\n",
    "from oauth2client.client import GoogleCredentials\n",
    "import getpass\n",
    "auth.authenticate_user()\n",
    "creds = GoogleCredentials.get_application_default()\n",
    "! google-drive-ocamlfuse -headless -id={creds.client_id} -secret={creds.client_secret} < /dev/null 2>&1 | grep URL\n",
    "vcode = getpass.getpass('Enter auth code here: ')\n",
    "! echo {vcode} | google-drive-ocamlfuse -headless -id={creds.client_id} -secret={creds.client_secret}\n",
    "print('Authenticated!')\n",
    "print('Creating mount directory')\n",
    "! mkdir /drive2\n",
    "print('Mounting...')\n",
    "! google-drive-ocamlfuse /drive2\n",
    "if os.path.exists('/content/drive'):\n",
    "    os.unlink('/content/drive')\n",
    "os.symlink('/drive2', '/content/drive')\n",
    "!ls '/content/drive/'\n",
    "print('Mounted!')"
   ]
  },
  {
   "cell_type": "markdown",
   "metadata": {
    "colab_type": "text",
    "id": "boQikqxTcdY_"
   },
   "source": [
    "### SSH Tunnel"
   ]
  },
  {
   "cell_type": "code",
   "execution_count": null,
   "metadata": {
    "cellView": "form",
    "colab": {},
    "colab_type": "code",
    "id": "bQRSKL3nB7np"
   },
   "outputs": [],
   "source": [
    "#@markdown ## Connect to Colab session\n",
    "#@markdown Using ngrok\n",
    "port = 4040 #@param {type:\"integer\"}\n",
    "only_show_credetionals = True #@param {type:\"boolean\"}\n",
    "%cd /content/\n",
    "if not only_show_credetionals:\n",
    "    print('Generate root password')\n",
    "    import secrets, string\n",
    "    password = ''.join(secrets.choice(string.ascii_letters + string.digits) for i in range(20))\n",
    "    ! echo \"Password: $password\" > /content/save_pswd\n",
    "    print('Download ngrok')\n",
    "    ! wget -q -c -nc https://bin.equinox.io/c/4VmDzA7iaHb/ngrok-stable-linux-amd64.zip\n",
    "    ! unzip -qq -n ngrok-stable-linux-amd64.zip\n",
    "    print('Setup sshd')\n",
    "    ! apt-get install -qq -o=Dpkg::Use-Pty=0 openssh-server pwgen > /dev/null\n",
    "    print('Set root password')\n",
    "    ! echo root:$password | chpasswd\n",
    "    ! mkdir -p /var/run/sshd\n",
    "    ! echo \"PermitRootLogin yes\" >> /etc/ssh/sshd_config\n",
    "    ! echo \"PasswordAuthentication yes\" >> /etc/ssh/sshd_config\n",
    "    ! echo \"LD_LIBRARY_PATH=/usr/lib64-nvidia\" >> /root/.bashrc\n",
    "    ! echo \"export LD_LIBRARY_PATH\" >> /root/.bashrc\n",
    "\n",
    "    print('Run sshd')\n",
    "    get_ipython().system_raw('/usr/sbin/sshd -D &')\n",
    "\n",
    "    print(\"Copy authtoken from https://dashboard.ngrok.com/auth\")\n",
    "    import getpass\n",
    "    authtoken = getpass.getpass()\n",
    "\n",
    "    print('Create tunnel')\n",
    "    get_ipython().system_raw('./ngrok authtoken $authtoken && ./ngrok tcp 22 &')\n",
    "\n",
    "print('---------')\n",
    "import sys, json, os\n",
    "try:\n",
    "    s = !curl -s http://localhost:$port/api/tunnels\n",
    "    addr = str(json.loads(s[0])['tunnels'][0]['public_url'])\n",
    "    print('Use:', end=' ')\n",
    "    print('ssh root@' + addr[6:addr.find(':', 6)] + ' -p ' + addr[addr.find(':', 6)+1:])\n",
    "    if os.path.exists('/content/save_pswd'):\n",
    "        ! cat /content/save_pswd\n",
    "except:\n",
    "    print('Tunnel was closed!')\n"
   ]
  },
  {
   "cell_type": "markdown",
   "metadata": {
    "colab_type": "text",
    "id": "lSXoqIWvsF5N"
   },
   "source": [
    "# Project"
   ]
  },
  {
   "cell_type": "markdown",
   "metadata": {
    "colab_type": "text",
    "id": "t5qwKQHakUyz"
   },
   "source": [
    "### Install Dependencies\n",
    "Session startup installation"
   ]
  },
  {
   "cell_type": "code",
   "execution_count": null,
   "metadata": {
    "cellView": "form",
    "colab": {
     "base_uri": "https://localhost:8080/",
     "height": 70
    },
    "colab_type": "code",
    "executionInfo": {
     "elapsed": 33515,
     "status": "ok",
     "timestamp": 1551103569761,
     "user": {
      "displayName": "Sole Sensei",
      "photoUrl": "https://lh5.googleusercontent.com/-SAcEN6PvRD4/AAAAAAAAAAI/AAAAAAAAAAk/c8RrHz6xuK4/s64/photo.jpg",
      "userId": "06217556349050602720"
     },
     "user_tz": -180
    },
    "id": "CRo7lZzjA-Te",
    "outputId": "8a74c91f-196f-4b2d-af32-30a162ccb612"
   },
   "outputs": [],
   "source": [
    "#@markdown ## Dependencies\n",
    "Project = 'google.drive' #@param ['google.drive', 'clone github'] \n",
    "copy_pre_trained_model = False #@param {type:\"boolean\"}\n",
    "\n",
    "if Project == 'clone github':\n",
    "    print('Cloning GitHub project...')\n",
    "    !git clone https://github.com/SoleSensei/UNIT.git\n",
    "    if copy_pre_trained_model:\n",
    "        print('Copying PT model gta2city...')\n",
    "        !mkdir /content/UNIT/models\n",
    "        !mkdir /content/UNIT/outputs\n",
    "        !cp -r /content/drive/UNIT/models/ /content/UNIT/\n",
    "        !cp -r /content/drive/UNIT/output/ /content/UNIT/\n",
    "\n",
    "!apt-get update 2>&1 > /dev/null\n",
    "print('Installing system packages...')\n",
    "!apt-get install -y -qq axel imagemagick 2>&1 > /dev/null\n",
    "print('Installing project dependencies...')\n",
    "!pip3 install http://download.pytorch.org/whl/cu92/torch-0.4.1-cp36-cp36m-linux_x86_64.whl 2>&1 > /dev/null\n",
    "!pip3 install torch torchvision 2>&1 > /dev/null\n",
    "!pip3 install tensorboard tensorboardX 2>&1 > /dev/null\n",
    "print('Complete!')"
   ]
  },
  {
   "cell_type": "markdown",
   "metadata": {
    "colab_type": "text",
    "id": "7YbzLR55zxA1"
   },
   "source": [
    "## Train"
   ]
  },
  {
   "cell_type": "markdown",
   "metadata": {
    "colab_type": "text",
    "id": "am5Wvl5dq_0C"
   },
   "source": [
    "### Day-2-Night Translation"
   ]
  },
  {
   "cell_type": "code",
   "execution_count": null,
   "metadata": {
    "cellView": "both",
    "colab": {
     "base_uri": "https://localhost:8080/",
     "height": 403
    },
    "colab_type": "code",
    "executionInfo": {
     "elapsed": 22145,
     "status": "ok",
     "timestamp": 1551119228572,
     "user": {
      "displayName": "Sole Sensei",
      "photoUrl": "https://lh5.googleusercontent.com/-SAcEN6PvRD4/AAAAAAAAAAI/AAAAAAAAAAk/c8RrHz6xuK4/s64/photo.jpg",
      "userId": "06217556349050602720"
     },
     "user_tz": -180
    },
    "id": "MGDIVhThI3AP",
    "outputId": "911ef9b8-dce0-4026-b119-b070afb82043"
   },
   "outputs": [],
   "source": [
    "#@title Shift Domains (nexet dataset)\n",
    "#@markdown Script parsing dataset folder to several domains by states from csv file\n",
    "\n",
    "import pandas as pd\n",
    "import os, sys\n",
    "from shutil import copy, move\n",
    "\n",
    "os.chdir('/content/drive/datasets/nexet')\n",
    "# ------------------------ Variables ------------------------ \n",
    "datapath = '/content/drive/datasets/nexet/nexet_2017_1/' # path to dataset directory\n",
    "csvfile = '/content/drive/datasets/nexet/train.csv' # path to csv file\n",
    "col_name = 'image_filename' # column name with dataset's filenames\n",
    "col_state = 'lighting' # column name with dataset's states \n",
    "domains = {\n",
    "            'trainA' : 'Day',\n",
    "            'trainB' : 'Night',\n",
    "            'testA' : 'Day',\n",
    "            'testB' : 'Night'\n",
    "          }  # making domain directories {Domain_Name : States}\n",
    "mode = 'move' # 'move' | 'copy' all files from dataset folder to domains\n",
    "domains2data = False # set True to shift all files back to datapath\n",
    "# -----------------------------------------------------------\n",
    " \n",
    "# ------------------------ Dynamic Variables ------------------------ \n",
    "mode = \"move\" #@param [\"move\", \"copy\", \"none\"]\n",
    "domains2data = False #@param {type:\"boolean\"}\n",
    "show_errors = 5 #@param {type:\"slider\", min:0, max:100, step:1}\n",
    "show_log = 10 #@param {type:\"slider\", min:0, max:100, step:1}\n",
    "train_test_ratio = 90 #@param {type:\"slider\", min:5, max:95, step:5}\n",
    "# -----------------------------------------------------------\n",
    "\n",
    "\n",
    "class DomainShifter(object):\n",
    "    \"\"\"\n",
    "        Class creating dataset's domains from csv \n",
    "    \"\"\"\n",
    "\n",
    "    def get_states(self, column):\n",
    "        \"\"\" Getting states by csv file column \"\"\"\n",
    "\n",
    "        print(f'Searching states in {column}...')\n",
    "        states = set()\n",
    "        for state in self.csv[column]:\n",
    "            states.add(state) \n",
    "        print(\"States:\", *states)\n",
    "        return states\n",
    "\n",
    "    def __init__(self, data, file, domains, col_name, col_state, sep=','):\n",
    "        \n",
    "        # Check datasets paths\n",
    "        if not os.path.exists(data):\n",
    "            raise FileNotFoundError(f\"No dataset '{os.path.abspath(data)}' folder found!\")\n",
    "        if not os.path.exists(file):\n",
    "            raise FileNotFoundError(f\"No csv file '{os.path.abspath(file)}' found!\")\n",
    "\n",
    "        def check_cols(*cols):\n",
    "            \"\"\" Check if columns exist in csv \"\"\"\n",
    "            try:\n",
    "                for col in cols:\n",
    "                    self.csv[col]\n",
    "            except:\n",
    "                raise Exception(f'Column name \"{col}\" is not found in {self.file}!')\n",
    "        \n",
    "        # Initialize class local variables\n",
    "        self.dataset = data # dataset path\n",
    "        self.file = file # csv file path\n",
    "        self.domains = domains # domains to create\n",
    "        self.csv = pd.read_csv(file, sep=sep, encoding='utf8') # read csv with pandas\n",
    "        check_cols(col_name, col_state) # check on column names exists\n",
    "        self.states = self.get_states(col_state) # get all states from csv\n",
    "    \n",
    "    def back_data(self, mode='move'):\n",
    "        \"\"\" Backing up data from domain folders to dataset folder \"\"\"\n",
    "        if mode == 'copy':\n",
    "            shift = copy\n",
    "        elif mode == 'move':\n",
    "            shift = move\n",
    "        else:\n",
    "            raise Exception(f'Shift Domains: no {mode} found!')\n",
    "\n",
    "        print('Backup shifting starts...')\n",
    "        print(f'Mode: {shift.__name__}')  \n",
    "\n",
    "        with open('log.txt', 'a', encoding=\"utf-8\") as log, open('err.txt', 'a', encoding=\"utf-8\") as err:\n",
    "            print('-------- back data ----------', file=log)\n",
    "            print('-------- back data ----------', file=err)\n",
    "            for root, sdir, _ in os.walk(self.dataset):\n",
    "                for folder in sdir:\n",
    "                    if folder in self.domains.keys():\n",
    "                        print(f'Start parsing {folder}')\n",
    "                        print(f'Start parsing {folder}', file=log)\n",
    "                        for r, _, files in os.walk(os.path.join(root, folder)):\n",
    "                            nfile = len(files)\n",
    "                            print('Files:', nfile)\n",
    "                            for i, name in enumerate(files):\n",
    "                                if i % (nfile // 30 + 1) == 0:\n",
    "                                    print(i, 'files shifted')\n",
    "                                src = os.path.join(r, name)\n",
    "                                dst = os.path.join(root, name)\n",
    "                                if mode == 'move' or not os.path.exists(dst):\n",
    "                                    shift(src, dst)\n",
    "                        print(f'Parsed: {folder}') \n",
    "                        print(f'Parsed: {folder}', file=log)\n",
    "                    else:\n",
    "                        print(f'Not domain folder {folder} found')\n",
    "                        print(f'Not domain folder {folder} found', file=log)\n",
    "\n",
    "\n",
    "    def shift_domains(self, mode='move'):\n",
    "        \"\"\" Creating domain folders and parsing dataset folder by csv \"\"\"\n",
    "        if mode == 'copy':\n",
    "            shift = copy\n",
    "        elif mode == 'move':\n",
    "            shift = move\n",
    "        else:\n",
    "            raise Exception(f'Shift Domains: no {mode} found!')\n",
    "        print('Shifting domains starts...')\n",
    "        print(f'Mode: {shift.__name__}')\n",
    "        # Caclculate splits\n",
    "        domain_split = {}\n",
    "        for state in self.states:\n",
    "            domain_split[state] = sum(state in v for v in self.domains.values())\n",
    "        \n",
    "        # Creating directories\n",
    "        print('Creating directories...')\n",
    "        base = self.dataset\n",
    "        for ndir in self.domains.keys():\n",
    "            path = os.path.join(base, ndir)\n",
    "            if not os.path.isdir(path):\n",
    "                os.mkdir(path)\n",
    "                print(f'{path} created!')\n",
    "        print('Created!')\n",
    "        \n",
    "#         k = 0 # TODO: fix dict for count\n",
    "        k_state = {'Day' : 0, 'Night' : 0}\n",
    "        with open('log.txt', 'a', encoding=\"utf-8\") as log, open('err.txt', 'a', encoding=\"utf-8\") as err:\n",
    "            print('-------- shift domains ----------', file=err)\n",
    "            print('-------- shift domains ----------', file=log)\n",
    "            for i, row in self.csv.iterrows():\n",
    "                if i % 1000 == 0:\n",
    "                    print(i, 'files processed')\n",
    "                name = str(row[col_name])\n",
    "                state = str(row[col_state])\n",
    "                src = os.path.join(base, name)\n",
    "                is_shifted = False\n",
    "                \n",
    "                if state == 'Twilight':\n",
    "                    continue\n",
    "#                 k += 1\n",
    "                k_state[state] += 1\n",
    "                if k_state[state] % 100 < train_test_ratio: #TODO: add domain split\n",
    "                    domain_type = 'train'\n",
    "                else:\n",
    "                    domain_type = 'test'\n",
    "\n",
    "                for item in self.domains.items():\n",
    "                    if state in item[1] and item[0][:-1] == domain_type:\n",
    "                        dst = os.path.join(base, item[0])\n",
    "                        dstname = os.path.join(dst, name)\n",
    "                        if os.path.exists(src) and (mode == 'move' or not os.path.exists(dstname)):\n",
    "                            shift(src, dst)\n",
    "                            print(f'{shift.__name__}: {src} → {dst}', file=log)\n",
    "                            is_shifted = True\n",
    "                        elif os.path.exists(dstname):\n",
    "                            is_shifted = True\n",
    "                        break\n",
    "                if not is_shifted:\n",
    "                    print(f'{row[col_name]} file not shifted', file=err)\n",
    "            for root, sdir, _ in os.walk(self.dataset):\n",
    "                for folder in sdir:\n",
    "                    if folder in self.domains.keys():\n",
    "                        for _, _, files in os.walk(os.path.join(root, folder)):\n",
    "                            nfile = len(files)\n",
    "                            print(f'Files in domain {folder}: {nfile}')\n",
    "                            print(f'Files in domain {folder}: {nfile}', file=log)\n",
    "        print('Shifiting completed!')\n",
    "\n",
    "# Main\n",
    "ds = DomainShifter(datapath, csvfile, domains, col_name, col_state)\n",
    "if not domains2data:\n",
    "    ds.shift_domains(mode)\n",
    "else:\n",
    "    ds.back_data(mode)\n",
    "\n",
    "\n",
    "if show_errors:\n",
    "    print('Error log:')\n",
    "    !tail -n $show_errors err.txt\n",
    "if show_log:\n",
    "    print('Log:')\n",
    "    !tail -n $show_log log.txt\n",
    "print('Completed!')"
   ]
  },
  {
   "cell_type": "code",
   "execution_count": null,
   "metadata": {
    "cellView": "form",
    "colab": {},
    "colab_type": "code",
    "id": "9JZBMDnLnwt4"
   },
   "outputs": [],
   "source": [
    "#@title Check on currupted images\n",
    "#@markdown Script checking and moving currupted images to special directory\n",
    "import os, sys\n",
    "from shutil import move\n",
    "from PIL import Image\n",
    "\n",
    "datapath = '/content/drive/datasets/nexet/nexet_2017_1/' # path to dataset directory\n",
    "curr_dir = '/content/drive/datasets/nexet/currupted'\n",
    "\n",
    "os.chdir('/content/drive/datasets/nexet')\n",
    "\n",
    "if not os.path.exists(curr_dir):\n",
    "    os.mkdir(curr_dir)\n",
    "\n",
    "with open('log.txt', 'a') as log:\n",
    "    print('-------- check currupted ----------', file=log)\n",
    "    curr_count = {}\n",
    "    for root, _, files in os.walk(datapath):\n",
    "        print(f'Checking {root} : ', file=log)\n",
    "        print(f'Checking {root} : ')\n",
    "        curr_count[root] = 0\n",
    "        nfile = len(files)\n",
    "        for i, file in enumerate(files):\n",
    "            if i % 100 == 0:\n",
    "                print(nfile - i, 'left to process')\n",
    "            try:\n",
    "                src = os.path.join(root, file)\n",
    "                with open(src, 'rb') as byte_image:\n",
    "                    with Image.open(byte_image) as img:\n",
    "                        img.verify()\n",
    "            except (IOError, SyntaxError) as e:\n",
    "                curr_count[root] += 1\n",
    "                move(src, curr_dir)\n",
    "                print(f'currupted move: {src} → {curr_dir}', file=log)\n",
    "        print('All Processed!')\n",
    "        print(curr_count[root], 'errors', file=log)\n",
    "        print(curr_count[root], 'errors')\n",
    "    num_errors = sum(v for v in curr_count.values())\n",
    "    print(f'Number of currupted files: {num_errors}', file=log)\n",
    "    \n",
    "show_log = 7 #@param {type:\"slider\", min:0, max:100, step:1}\n",
    "if show_log:\n",
    "    print('Log:')\n",
    "    !tail -n $show_log log.txt\n",
    "print('Completed!')"
   ]
  },
  {
   "cell_type": "code",
   "execution_count": null,
   "metadata": {
    "cellView": "both",
    "colab": {
     "base_uri": "https://localhost:8080/",
     "height": 195381
    },
    "colab_type": "code",
    "executionInfo": {
     "elapsed": 16156266,
     "status": "ok",
     "timestamp": 1545761861228,
     "user": {
      "displayName": "Sole Sensei",
      "photoUrl": "https://lh5.googleusercontent.com/-SAcEN6PvRD4/AAAAAAAAAAI/AAAAAAAAAAk/c8RrHz6xuK4/s64/photo.jpg",
      "userId": "06217556349050602720"
     },
     "user_tz": -180
    },
    "id": "q4IiCigRxzFX",
    "outputId": "c9ef6a9b-a34b-468e-95d6-b43da4125dc3"
   },
   "outputs": [],
   "source": [
    "#@title ## Training Day 2 Night\n",
    "Resume_from_last_checkpoint = True #@param {type:\"boolean\"}\n",
    "Checkpoint_every_iteration = 1000 #@param {type:\"slider\", min:100, max:5000, step:100}\n",
    "# TODO: add changing yaml file\n",
    " \n",
    "if Resume_from_last_checkpoint:\n",
    "    rsm = '--resume'\n",
    "else:\n",
    "    rsm = ''\n",
    "\n",
    "import os\n",
    "if not os.path.isdir('/content/drive'):\n",
    "    print('=====================================================================')\n",
    "    print('Session ended! Please remount google.drive and reinstall dependences!')\n",
    "    print('=====================================================================')\n",
    "else:\n",
    "    os.chdir('/content/drive/UNIT')\n",
    "\n",
    "    print('=====================================================================')\n",
    "    print('Training a model Day to Night image translation')\n",
    "    print('=====================================================================')\n",
    "    !python train.py --config configs/unit_day2night4.yaml --trainer UNIT $rsm\n",
    "    print('=====================================================================')\n",
    "    print('Fully Trained!')\n",
    "    print('=====================================================================')"
   ]
  },
  {
   "cell_type": "code",
   "execution_count": null,
   "metadata": {
    "cellView": "form",
    "colab": {},
    "colab_type": "code",
    "id": "ToYRITN5ZIdG"
   },
   "outputs": [],
   "source": [
    "#@title ### Results\n",
    "iterations = 5004 #@param {type:\"slider\", min:10, max:10000, step:1}\n",
    "image_size = 30 #@param {type:\"slider\", min:15, max:50, step:1}\n",
    "iterations = int(iterations)\n",
    "import os\n",
    "from IPython.display import Image, display, HTML\n",
    "import cv2\n",
    "import matplotlib.pyplot as plt\n",
    "\n",
    "\n",
    "def getTitle(name, it):\n",
    "    title = ''\n",
    "    if name[4] == 'a':\n",
    "        title += 'Day 2 Night'\n",
    "    else:\n",
    "        title += 'Night 2 Day'\n",
    "    if name[7:13] == '_test_':\n",
    "        title += ' - Test '\n",
    "    else:\n",
    "        title += ' - Train '\n",
    "    return title + str(it)\n",
    "\n",
    "def displayImage(file, title):\n",
    "    image = cv2.imread(file)\n",
    "    image = cv2.cvtColor(image,cv2.COLOR_BGR2RGB)\n",
    "    plt.figure(figsize=(image_size,image_size))\n",
    "    plt.title(title);\n",
    "    plt.imshow(image)\n",
    "    plt.grid(False)\n",
    "\n",
    "os.chdir('/content/drive/UNIT/outputs/unit_day2night/images/')\n",
    "print(f'Selected iterations: {iterations}')\n",
    "for r, d, f in os.walk('./'):\n",
    "    file = f[0]\n",
    "    num_pit = int(file[-12:-4])\n",
    "    title = getTitle(file, num_pit)\n",
    "    displayImage(file, title)\n",
    "    for file in f[1:]:\n",
    "        if file[-12:-4] != '_current':\n",
    "            num_it  = int(file[-12:-4])\n",
    "            if num_it - num_pit >= iterations or num_it == num_pit:\n",
    "                title = getTitle(file, num_it)\n",
    "                displayImage(file, title)\n",
    "                num_pit = num_it"
   ]
  },
  {
   "cell_type": "markdown",
   "metadata": {
    "colab_type": "text",
    "id": "_XsU4A9ToOWW"
   },
   "source": [
    "### Summer-2-Winter Translation"
   ]
  },
  {
   "cell_type": "code",
   "execution_count": null,
   "metadata": {
    "cellView": "both",
    "colab": {},
    "colab_type": "code",
    "id": "RCYUUDLWzy73"
   },
   "outputs": [],
   "source": [
    "#@title ### Training Winter 2 Summer\n",
    "Resume_from_last_checkpoint = True #@param {type:\"boolean\"}\n",
    "Checkpoint_every_iteration = 1000 #@param {type:\"slider\", min:100, max:5000, step:100}\n",
    "\n",
    "\n",
    "\n",
    "if Resume_from_last_checkpoint:\n",
    "    rsm = '--resume'\n",
    "else:\n",
    "    rsm = ''\n",
    "\n",
    "import os\n",
    "if not os.path.isdir('/content/drive'):\n",
    "    print('=====================================================================')\n",
    "    print('Session ended! Please remount google.drive and reinstall dependences!')\n",
    "    print('=====================================================================')\n",
    "else:\n",
    "    os.chdir('/content/drive/UNIT')\n",
    "\n",
    "    print('=====================================================================')\n",
    "    print('Training a model Summer to Winter image translation')\n",
    "    print('=====================================================================')\n",
    "    !python train.py --config configs/unit_summer2winter_yosemite256_folder.yaml --trainer UNIT $rsm\n",
    "    print('=====================================================================')\n",
    "    print('Fully Trained!')\n",
    "    print('=====================================================================')"
   ]
  },
  {
   "cell_type": "code",
   "execution_count": null,
   "metadata": {
    "cellView": "both",
    "colab": {},
    "colab_type": "code",
    "id": "WwGGsFEQWvcH"
   },
   "outputs": [],
   "source": [
    "#@title ### Results\n",
    "iterations = 5004 #@param {type:\"slider\", min:10, max:10000, step:1}\n",
    "image_size = 30 #@param {type:\"slider\", min:15, max:50, step:1}\n",
    "iterations = int(iterations)\n",
    "import os\n",
    "from IPython.display import Image, display, HTML\n",
    "import cv2\n",
    "import matplotlib.pyplot as plt\n",
    "\n",
    "\n",
    "def getTitle(name, it):\n",
    "    title = ''\n",
    "    if name[4] == 'a':\n",
    "        title += 'Summer 2 Winter'\n",
    "    else:\n",
    "        title += 'Winter 2 Summer'\n",
    "    if name[7:13] == '_test_':\n",
    "        title += ' - Test '\n",
    "    else:\n",
    "        title += ' - Train '\n",
    "    return title + str(it)\n",
    "\n",
    "def displayImage(file, title):\n",
    "    image = cv2.imread(file)\n",
    "    image = cv2.cvtColor(image,cv2.COLOR_BGR2RGB)\n",
    "    plt.figure(figsize=(image_size,image_size))\n",
    "    plt.title(title);\n",
    "    plt.imshow(image)\n",
    "    plt.grid(False)\n",
    "\n",
    "os.chdir('/content/drive/UNIT/outputs/unit_summer2winter_yosemite256_folder/images/')\n",
    "# print(os.getcwd())\n",
    "print(f'Selected iterations: {iterations}')\n",
    "for r, d, f in os.walk('./'):\n",
    "    file = f[0]\n",
    "    num_pit = int(file[-12:-4])\n",
    "    title = getTitle(file, num_pit)\n",
    "    displayImage(file, title)\n",
    "    for file in f[1:]:\n",
    "        if file[-12:-4] != '_current':\n",
    "            num_it  = int(file[-12:-4])\n",
    "            if num_it - num_pit >= iterations or num_it == num_pit:\n",
    "                title = getTitle(file, num_it)\n",
    "                displayImage(file, title)\n",
    "                num_pit = num_it\n",
    "\n",
    "\n",
    "\n",
    "\n"
   ]
  },
  {
   "cell_type": "markdown",
   "metadata": {
    "colab_type": "text",
    "id": "z_rFzElCsIm1"
   },
   "source": [
    "<!-- ![]()\n",
    " ![Google's logo](/content/drive/UNIT/outputs/unit_summer2winter_yosemite256_folder/images/gen_a2b_test_00000010.png) -->\n"
   ]
  },
  {
   "cell_type": "markdown",
   "metadata": {
    "colab_type": "text",
    "id": "bpIuqB5IBUix"
   },
   "source": [
    "## Test"
   ]
  },
  {
   "cell_type": "code",
   "execution_count": null,
   "metadata": {
    "cellView": "form",
    "colab": {},
    "colab_type": "code",
    "id": "iiyzAUbFl1JP"
   },
   "outputs": [],
   "source": [
    "#@title ### Testing on PT models\n",
    "#TODO: add day2night\n",
    "from IPython.display import Image, display\n",
    "import os\n",
    "\n",
    "Model = \"gta2city\" #@param ['gta2city', 'day2night', 'summer2winter']\n",
    "backward = False #@param {type:\"boolean\"}\n",
    "\n",
    "\n",
    "if not os.path.isdir('/content/drive'):\n",
    "    print('=====================================================================')\n",
    "    print('Session ended! Please remount google.drive and reinstall dependences!')\n",
    "    print('=====================================================================')\n",
    "    assert(False)\n",
    "    \n",
    "os.chdir('/content/drive/UNIT')\n",
    "\n",
    "\n",
    "if not backward:\n",
    "    print('=====================================================================')\n",
    "    print('Testing: gta2city')\n",
    "    print('=====================================================================')\n",
    "\n",
    "\n",
    "    ! python test.py --trainer UNIT --config configs/unit_gta2city_list.yaml --input inputs/gta3.jpg --output_folder results/gta2city --checkpoint models/unit_gta2city.pt --a2b 1\n",
    "\n",
    "    print('=====================================================================')\n",
    "    print('Input')\n",
    "    display(Image('/content/drive/UNIT/results/gta2city/input.jpg', width=800))\n",
    "    print('Output')\n",
    "    display(Image('/content/drive/UNIT/results/gta2city/output.jpg', width=800))\n",
    "\n",
    "if backward:\n",
    "    print('=====================================================================')\n",
    "    print('Testing: city2gta')\n",
    "    print('=====================================================================')\n",
    "   \n",
    "    ! python test.py --trainer UNIT --config configs/unit_gta2city_list.yaml --input inputs/city_example.jpg --output_folder results/city2gta --checkpoint models/unit_gta2city.pt --a2b 0\n",
    "\n",
    "    print('=====================================================================')\n",
    "    print('Input')\n",
    "    display(Image('/content/drive/UNIT/results/city2gta/input.jpg', width=800))\n",
    "    print('Output')\n",
    "    display(Image('/content/drive/UNIT/results/city2gta/output.jpg', width=800))"
   ]
  }
 ],
 "metadata": {
  "accelerator": "GPU",
  "colab": {
   "collapsed_sections": [
    "boQikqxTcdY_",
    "_XsU4A9ToOWW"
   ],
   "name": "UNIT-Colab.ipynb",
   "provenance": [
    {
     "file_id": "11_MAAg-cB93pQzu4bRxMC9RhpKiwqvO7",
     "timestamp": 1545633269514
    },
    {
     "file_id": "1q9x1CPD7r2FN1b4fYFDCo2wwK5zN7yLc",
     "timestamp": 1545606733574
    },
    {
     "file_id": "1skZjaxBpg5fosnhf6woT76PwTR2bIgXA",
     "timestamp": 1540472279152
    }
   ],
   "version": "0.3.2"
  },
  "kernelspec": {
   "display_name": "Python 3",
   "language": "python",
   "name": "python3"
  },
  "language_info": {
   "codemirror_mode": {
    "name": "ipython",
    "version": 3
   },
   "file_extension": ".py",
   "mimetype": "text/x-python",
   "name": "python",
   "nbconvert_exporter": "python",
   "pygments_lexer": "ipython3",
   "version": "3.7.3"
  }
 },
 "nbformat": 4,
 "nbformat_minor": 1
}
