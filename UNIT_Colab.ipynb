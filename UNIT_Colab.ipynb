{
  "nbformat": 4,
  "nbformat_minor": 0,
  "metadata": {
    "colab": {
      "name": "UNIT-Colab.ipynb",
      "version": "0.3.2",
      "provenance": [],
      "collapsed_sections": []
    },
    "kernelspec": {
      "name": "python3",
      "display_name": "Python 3"
    },
    "accelerator": "GPU"
  },
  "cells": [
    {
      "metadata": {
        "id": "XTxTQUGksnpD",
        "colab_type": "text"
      },
      "cell_type": "markdown",
      "source": [
        "# UNIT Project in Colab\n",
        "[on GitHub](https://github.com/mingyuliutw/UNIT)\n"
      ]
    },
    {
      "metadata": {
        "id": "SsdkHxKYemJF",
        "colab_type": "toc"
      },
      "cell_type": "markdown",
      "source": [
        ">[UNIT Project in Colab](#scrollTo=XTxTQUGksnpD)\n",
        ">>[Workspace Setup](#scrollTo=_iC6SuvEjS6w)\n",
        "\n",
        ">>>[Google Drive Folder Mounting](#scrollTo=3D9e9leUq0Di)\n",
        "\n",
        ">>>>[Copy Mounting (only view)](#scrollTo=3D9e9leUq0Di)\n",
        "\n",
        ">>>>[Fuse Driver Mounting (changable)](#scrollTo=ziZz9x_vfSx8)\n",
        "\n",
        ">>>[Project Dependencies](#scrollTo=t5qwKQHakUyz)\n",
        "\n"
      ]
    },
    {
      "metadata": {
        "id": "_iC6SuvEjS6w",
        "colab_type": "text"
      },
      "cell_type": "markdown",
      "source": [
        "## Workspace Setup\n",
        "Bash commands setting up the current session for Juputer Notebook"
      ]
    },
    {
      "metadata": {
        "id": "3D9e9leUq0Di",
        "colab_type": "text"
      },
      "cell_type": "markdown",
      "source": [
        "### Google Drive Folder Mounting\n",
        "Following code mounts your google.drive to container. Choose **one** of two next methods.\n",
        "\n",
        "[habr article](habr.com/post/348058/)\n",
        "\n",
        "\n",
        "#### Mounting with built-in"
      ]
    },
    {
      "metadata": {
        "id": "dSt2hldQOpnH",
        "colab_type": "code",
        "colab": {}
      },
      "cell_type": "code",
      "source": [
        "from google.colab import drive\n",
        "drive.mount('/content/drive/')\n",
        "# !ls 'content/drive/My Drive'\n",
        "%cd '/content/drive/My Drive/UNIT'\n",
        "!ls\n",
        "!time rm -r ./datasets/\n",
        "!ls\n",
        "# !google-drive-ocamlfuse ./drive"
      ],
      "execution_count": 0,
      "outputs": []
    },
    {
      "metadata": {
        "id": "MEalz04W7xnR",
        "colab_type": "code",
        "colab": {}
      },
      "cell_type": "code",
      "source": [
        "%cd '/content/drive2/UNIT'\n",
        "!ls\n",
        "!time rm -rv  ./datasets/\n",
        "!ls"
      ],
      "execution_count": 0,
      "outputs": []
    },
    {
      "metadata": {
        "id": "ziZz9x_vfSx8",
        "colab_type": "text"
      },
      "cell_type": "markdown",
      "source": [
        "#### Fuse Driver Mounting (old-fuse-style)"
      ]
    },
    {
      "metadata": {
        "id": "7_sisOPec8JQ",
        "colab_type": "code",
        "colab": {
          "base_uri": "https://localhost:8080/",
          "height": 243
        },
        "outputId": "c0ed6629-3daf-424d-d354-862ca16ddeca"
      },
      "cell_type": "code",
      "source": [
        "# Mount Google.Drive \n",
        "%cd /content/\n",
        "!echo 'Installing required software'\n",
        "!apt-get install -y -qq software-properties-common -y -qq module-init-tools\n",
        "!echo 'Add apt-repository with Google.Drive Fuse'\n",
        "!add-apt-repository -y ppa:alessandro-strada/ppa 2>&1 > /dev/null\n",
        "!echo 'Updating packages...'\n",
        "!apt-get update -y -qq\n",
        "!echo 'Installing google-drive-ocamlfuse fuse...'\n",
        "!apt-get install -y -qq google-drive-ocamlfuse fuse\n",
        "!echo 'Authenticate Fuse in Google.Drive...'\n",
        "from google.colab import auth\n",
        "from oauth2client.client import GoogleCredentials\n",
        "import getpass\n",
        "auth.authenticate_user()\n",
        "creds = GoogleCredentials.get_application_default()\n",
        "!google-drive-ocamlfuse -headless -id={creds.client_id} -secret={creds.client_secret} < /dev/null 2>&1 | grep URL\n",
        "vcode = getpass.getpass()\n",
        "!echo {vcode} | google-drive-ocamlfuse -headless -id={creds.client_id} -secret={creds.client_secret}\n",
        "!echo 'Authenticated!'\n",
        "!echo 'Creating mount directory'\n",
        "!mkdir ./drive2\n",
        "!echo 'Mounting...'\n",
        "!google-drive-ocamlfuse ./drive2\n",
        "!ls\n",
        "!ls ./drive\n",
        "!echo 'Mounted!'"
      ],
      "execution_count": 7,
      "outputs": [
        {
          "output_type": "stream",
          "text": [
            "/content\n",
            "Installing required software\n",
            "Add apt-repository with Google.Drive Fuse\n",
            "Updating packages...\n",
            "Installing google-drive-ocamlfuse fuse...\n",
            "Authenticate Fuse in Google.Drive...\n",
            "··········\n",
            "Authenticated!\n",
            "Creating mount directory\n",
            "Mounting...\n",
            "adc.json  drive  drive2  sample_data\n",
            "'My Drive'\n",
            "Mounted!\n"
          ],
          "name": "stdout"
        }
      ]
    },
    {
      "metadata": {
        "id": "t5qwKQHakUyz",
        "colab_type": "text"
      },
      "cell_type": "markdown",
      "source": [
        "### Project Dependencies\n",
        "One time installation"
      ]
    },
    {
      "metadata": {
        "id": "4lDfJbdcTdCE",
        "colab_type": "code",
        "colab": {}
      },
      "cell_type": "code",
      "source": [
        "echo 'Cloning GitHub project...'\n",
        "!git clone https://github.com/mingyuliutw/UNIT.git\n",
        "echo 'Installing system packages...'\n",
        "!apt-get install -y -qq axel imagemagick\n",
        "echo 'Installing conda package manager (miniconda)...'\n",
        "!wget https://repo.anaconda.com/miniconda/Miniconda3-latest-Linux-x86_64.sh\n",
        "!bash Miniconda3-latest-Linux-x86_64.sh\n",
        "echo 'Installing project dependencies...'\n",
        "!/root/miniconda3/bin/conda install pytorch=0.4.1 torchvision cuda91 -y -c pytorch\n",
        "!/root/miniconda3/bin/conda install -y pip pyyaml\n",
        "!pip install tensorboard tensorboardX\n",
        "!echo 'Complete!'"
      ],
      "execution_count": 0,
      "outputs": []
    },
    {
      "metadata": {
        "id": "Kvl7r7SKtK4E",
        "colab_type": "code",
        "colab": {}
      },
      "cell_type": "code",
      "source": [
        "# !pip3 install torch torchvision\n",
        "!/root/miniconda3/bin/conda install pytorch=0.4.1 torchvision cuda91 -y -c pytorch\n",
        "\n",
        "! -V"
      ],
      "execution_count": 0,
      "outputs": []
    },
    {
      "metadata": {
        "id": "lSXoqIWvsF5N",
        "colab_type": "text"
      },
      "cell_type": "markdown",
      "source": [
        "# Project\n",
        "## Test"
      ]
    },
    {
      "metadata": {
        "id": "iiyzAUbFl1JP",
        "colab_type": "code",
        "colab": {}
      },
      "cell_type": "code",
      "source": [
        "%cd '/content/drive/My Drive/UNIT'\n",
        "!/root/miniconda3/bin/python test.py --trainer UNIT --config configs/unit_gta2city_list.yaml --input inputs/gta_example.jpg --output_folder results/gta2city --checkpoint models/unit_gta2city.pt --a2b 1\n",
        "!/root/miniconda3/bin/pythonpython test.py --trainer UNIT --config configs/unit_gta2city_list.yaml --input inputs/city_example.jpg --output_folder results/city2gta --checkpoint models/unit_gta2city.pt --a2b 0    "
      ],
      "execution_count": 0,
      "outputs": []
    },
    {
      "metadata": {
        "id": "7YbzLR55zxA1",
        "colab_type": "text"
      },
      "cell_type": "markdown",
      "source": [
        "## Train"
      ]
    },
    {
      "metadata": {
        "id": "RCYUUDLWzy73",
        "colab_type": "code",
        "colab": {}
      },
      "cell_type": "code",
      "source": [
        "%cd '/content/drive/My Drive/UNIT'\n",
        "!echo 'Training a model for sketches of handbags to images of handbags translation'\n",
        "!bash scripts/unit_demo_train_edges2handbags.sh"
      ],
      "execution_count": 0,
      "outputs": []
    }
  ]
}